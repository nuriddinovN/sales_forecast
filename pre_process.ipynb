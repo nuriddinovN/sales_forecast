{
 "cells": [
  {
   "cell_type": "markdown",
   "id": "91426eac-89ba-41b8-8607-f6bb46bca799",
   "metadata": {},
   "source": [
    "<h1>Import librearies</h1>"
   ]
  },
  {
   "cell_type": "code",
   "execution_count": 37,
   "id": "3da83891-624a-4495-a74f-2f9856949781",
   "metadata": {},
   "outputs": [],
   "source": [
    "import os\n",
    "os.environ['TF_CPP_MIN_LOG_LEVEL'] = '2'\n",
    "import numpy as np\n",
    "import pandas as pd \n",
    "import matplotlib.pyplot as plt\n",
    "from  xgboost import XGBRegressor\n",
    "from sklearn.ensemble import RandomForestRegressor\n",
    "from sklearn.linear_model import LinearRegression\n",
    "from sklearn.preprocessing import MinMaxScaler\n",
    "from sklearn.metrics import mean_absolute_error,mean_squared_error,r2_score\n",
    "\n",
    "from tensorflow.keras.models import Sequential\n",
    "from tensorflow.keras.layers import Dense"
   ]
  },
  {
   "cell_type": "markdown",
   "id": "1da888b6-1a66-483a-a12f-4a47b06f070a",
   "metadata": {},
   "source": [
    "<h1>Import data</h1>"
   ]
  },
  {
   "cell_type": "code",
   "execution_count": 38,
   "id": "8bdd5576-54bf-41d7-bf07-e102005d9dfd",
   "metadata": {},
   "outputs": [
    {
     "name": "stdout",
     "output_type": "stream",
     "text": [
      "         date  store  item  sales\n",
      "0  2013-01-01      1     1     13\n",
      "1  2013-01-02      1     1     11\n",
      "2  2013-01-03      1     1     14\n",
      "3  2013-01-04      1     1     13\n",
      "4  2013-01-05      1     1     10\n",
      "<class 'pandas.core.frame.DataFrame'>\n",
      "RangeIndex: 913000 entries, 0 to 912999\n",
      "Data columns (total 4 columns):\n",
      " #   Column  Non-Null Count   Dtype \n",
      "---  ------  --------------   ----- \n",
      " 0   date    913000 non-null  object\n",
      " 1   store   913000 non-null  int64 \n",
      " 2   item    913000 non-null  int64 \n",
      " 3   sales   913000 non-null  int64 \n",
      "dtypes: int64(3), object(1)\n",
      "memory usage: 27.9+ MB\n"
     ]
    }
   ],
   "source": [
    "sales_data=pd.read_csv(\"train.csv\")\n",
    "print(sales_data.head())\n",
    "sales_data.info()"
   ]
  },
  {
   "cell_type": "markdown",
   "id": "1568e373-4aec-4095-993a-597955c8a25f",
   "metadata": {},
   "source": [
    "<h1>Drop store and item col </h1>"
   ]
  },
  {
   "cell_type": "code",
   "execution_count": 39,
   "id": "ef7ff54a-511a-4428-bdf8-4bb9ac22ab8f",
   "metadata": {},
   "outputs": [
    {
     "name": "stdout",
     "output_type": "stream",
     "text": [
      "<class 'pandas.core.frame.DataFrame'>\n",
      "RangeIndex: 913000 entries, 0 to 912999\n",
      "Data columns (total 2 columns):\n",
      " #   Column  Non-Null Count   Dtype \n",
      "---  ------  --------------   ----- \n",
      " 0   date    913000 non-null  object\n",
      " 1   sales   913000 non-null  int64 \n",
      "dtypes: int64(1), object(1)\n",
      "memory usage: 13.9+ MB\n"
     ]
    },
    {
     "data": {
      "text/html": [
       "<div>\n",
       "<style scoped>\n",
       "    .dataframe tbody tr th:only-of-type {\n",
       "        vertical-align: middle;\n",
       "    }\n",
       "\n",
       "    .dataframe tbody tr th {\n",
       "        vertical-align: top;\n",
       "    }\n",
       "\n",
       "    .dataframe thead th {\n",
       "        text-align: right;\n",
       "    }\n",
       "</style>\n",
       "<table border=\"1\" class=\"dataframe\">\n",
       "  <thead>\n",
       "    <tr style=\"text-align: right;\">\n",
       "      <th></th>\n",
       "      <th>date</th>\n",
       "      <th>sales</th>\n",
       "    </tr>\n",
       "  </thead>\n",
       "  <tbody>\n",
       "    <tr>\n",
       "      <th>0</th>\n",
       "      <td>2013-01-01</td>\n",
       "      <td>13</td>\n",
       "    </tr>\n",
       "    <tr>\n",
       "      <th>1</th>\n",
       "      <td>2013-01-02</td>\n",
       "      <td>11</td>\n",
       "    </tr>\n",
       "    <tr>\n",
       "      <th>2</th>\n",
       "      <td>2013-01-03</td>\n",
       "      <td>14</td>\n",
       "    </tr>\n",
       "    <tr>\n",
       "      <th>3</th>\n",
       "      <td>2013-01-04</td>\n",
       "      <td>13</td>\n",
       "    </tr>\n",
       "    <tr>\n",
       "      <th>4</th>\n",
       "      <td>2013-01-05</td>\n",
       "      <td>10</td>\n",
       "    </tr>\n",
       "  </tbody>\n",
       "</table>\n",
       "</div>"
      ],
      "text/plain": [
       "         date  sales\n",
       "0  2013-01-01     13\n",
       "1  2013-01-02     11\n",
       "2  2013-01-03     14\n",
       "3  2013-01-04     13\n",
       "4  2013-01-05     10"
      ]
     },
     "execution_count": 39,
     "metadata": {},
     "output_type": "execute_result"
    }
   ],
   "source": [
    "sales_data = sales_data.drop(['store', 'item'], axis=1, errors='ignore')\n",
    "sales_data.info()\n",
    "sales_data.head()"
   ]
  },
  {
   "cell_type": "code",
   "execution_count": 40,
   "id": "681ddc92-7361-4364-be84-848e1ff5a363",
   "metadata": {},
   "outputs": [
    {
     "data": {
      "text/html": [
       "<div>\n",
       "<style scoped>\n",
       "    .dataframe tbody tr th:only-of-type {\n",
       "        vertical-align: middle;\n",
       "    }\n",
       "\n",
       "    .dataframe tbody tr th {\n",
       "        vertical-align: top;\n",
       "    }\n",
       "\n",
       "    .dataframe thead th {\n",
       "        text-align: right;\n",
       "    }\n",
       "</style>\n",
       "<table border=\"1\" class=\"dataframe\">\n",
       "  <thead>\n",
       "    <tr style=\"text-align: right;\">\n",
       "      <th></th>\n",
       "      <th>date</th>\n",
       "      <th>sales</th>\n",
       "    </tr>\n",
       "  </thead>\n",
       "  <tbody>\n",
       "    <tr>\n",
       "      <th>0</th>\n",
       "      <td>2013-01-01</td>\n",
       "      <td>454904</td>\n",
       "    </tr>\n",
       "    <tr>\n",
       "      <th>1</th>\n",
       "      <td>2013-02-01</td>\n",
       "      <td>459417</td>\n",
       "    </tr>\n",
       "    <tr>\n",
       "      <th>2</th>\n",
       "      <td>2013-03-01</td>\n",
       "      <td>617382</td>\n",
       "    </tr>\n",
       "    <tr>\n",
       "      <th>3</th>\n",
       "      <td>2013-04-01</td>\n",
       "      <td>682274</td>\n",
       "    </tr>\n",
       "    <tr>\n",
       "      <th>4</th>\n",
       "      <td>2013-05-01</td>\n",
       "      <td>763242</td>\n",
       "    </tr>\n",
       "    <tr>\n",
       "      <th>5</th>\n",
       "      <td>2013-06-01</td>\n",
       "      <td>795597</td>\n",
       "    </tr>\n",
       "    <tr>\n",
       "      <th>6</th>\n",
       "      <td>2013-07-01</td>\n",
       "      <td>855922</td>\n",
       "    </tr>\n",
       "    <tr>\n",
       "      <th>7</th>\n",
       "      <td>2013-08-01</td>\n",
       "      <td>766761</td>\n",
       "    </tr>\n",
       "    <tr>\n",
       "      <th>8</th>\n",
       "      <td>2013-09-01</td>\n",
       "      <td>689907</td>\n",
       "    </tr>\n",
       "    <tr>\n",
       "      <th>9</th>\n",
       "      <td>2013-10-01</td>\n",
       "      <td>656587</td>\n",
       "    </tr>\n",
       "  </tbody>\n",
       "</table>\n",
       "</div>"
      ],
      "text/plain": [
       "        date   sales\n",
       "0 2013-01-01  454904\n",
       "1 2013-02-01  459417\n",
       "2 2013-03-01  617382\n",
       "3 2013-04-01  682274\n",
       "4 2013-05-01  763242\n",
       "5 2013-06-01  795597\n",
       "6 2013-07-01  855922\n",
       "7 2013-08-01  766761\n",
       "8 2013-09-01  689907\n",
       "9 2013-10-01  656587"
      ]
     },
     "execution_count": 40,
     "metadata": {},
     "output_type": "execute_result"
    }
   ],
   "source": [
    "# Ensure the 'date' column is of datetime type\n",
    "sales_data['date'] = pd.to_datetime(sales_data['date'])\n",
    "\n",
    "# Convert the 'date' column to a monthly period\n",
    "sales_data['date'] = sales_data['date'].dt.to_period(\"M\")\n",
    "\n",
    "# Group by the monthly period and sum the values\n",
    "monthly_sales = sales_data.groupby('date').sum().reset_index()\n",
    "\n",
    "# Convert the 'date' column back to a timestamp\n",
    "monthly_sales['date'] = monthly_sales['date'].dt.to_timestamp()\n",
    "\n",
    "# Display the first 10 rows of the result\n",
    "monthly_sales.head(10)\n"
   ]
  },
  {
   "cell_type": "markdown",
   "id": "8da1dad2-49a7-4320-92c6-84cfec679fd3",
   "metadata": {},
   "source": [
    "<h1>Visualization</h1>"
   ]
  },
  {
   "cell_type": "code",
   "execution_count": 41,
   "id": "bdf5c2a1-0223-4925-9128-4ac04e0d99d9",
   "metadata": {},
   "outputs": [
    {
     "data": {
      "image/png": "[encoded data removed]",
      "text/plain": [
       "<Figure size 1500x700 with 1 Axes>"
      ]
     },
     "metadata": {},
     "output_type": "display_data"
    }
   ],
   "source": [
    "plt.figure(figsize=(15,7))\n",
    "plt.plot(monthly_sales['date'],monthly_sales['sales'])\n",
    "plt.xlabel(\"date\")\n",
    "plt.ylabel(\"sales\")\n",
    "plt.title(\"Monthly custumer sales\")\n",
    "plt.show()"
   ]
  },
  {
   "cell_type": "code",
   "execution_count": 42,
   "id": "3673cea0-7ea1-4dcc-92fa-c638ea19494f",
   "metadata": {},
   "outputs": [
    {
     "data": {
      "text/html": [
       "<div>\n",
       "<style scoped>\n",
       "    .dataframe tbody tr th:only-of-type {\n",
       "        vertical-align: middle;\n",
       "    }\n",
       "\n",
       "    .dataframe tbody tr th {\n",
       "        vertical-align: top;\n",
       "    }\n",
       "\n",
       "    .dataframe thead th {\n",
       "        text-align: right;\n",
       "    }\n",
       "</style>\n",
       "<table border=\"1\" class=\"dataframe\">\n",
       "  <thead>\n",
       "    <tr style=\"text-align: right;\">\n",
       "      <th></th>\n",
       "      <th>date</th>\n",
       "      <th>sales</th>\n",
       "      <th>sales_diff</th>\n",
       "    </tr>\n",
       "  </thead>\n",
       "  <tbody>\n",
       "    <tr>\n",
       "      <th>1</th>\n",
       "      <td>2013-02-01</td>\n",
       "      <td>459417</td>\n",
       "      <td>4513.0</td>\n",
       "    </tr>\n",
       "    <tr>\n",
       "      <th>2</th>\n",
       "      <td>2013-03-01</td>\n",
       "      <td>617382</td>\n",
       "      <td>157965.0</td>\n",
       "    </tr>\n",
       "    <tr>\n",
       "      <th>3</th>\n",
       "      <td>2013-04-01</td>\n",
       "      <td>682274</td>\n",
       "      <td>64892.0</td>\n",
       "    </tr>\n",
       "    <tr>\n",
       "      <th>4</th>\n",
       "      <td>2013-05-01</td>\n",
       "      <td>763242</td>\n",
       "      <td>80968.0</td>\n",
       "    </tr>\n",
       "    <tr>\n",
       "      <th>5</th>\n",
       "      <td>2013-06-01</td>\n",
       "      <td>795597</td>\n",
       "      <td>32355.0</td>\n",
       "    </tr>\n",
       "  </tbody>\n",
       "</table>\n",
       "</div>"
      ],
      "text/plain": [
       "        date   sales  sales_diff\n",
       "1 2013-02-01  459417      4513.0\n",
       "2 2013-03-01  617382    157965.0\n",
       "3 2013-04-01  682274     64892.0\n",
       "4 2013-05-01  763242     80968.0\n",
       "5 2013-06-01  795597     32355.0"
      ]
     },
     "execution_count": 42,
     "metadata": {},
     "output_type": "execute_result"
    }
   ],
   "source": [
    "monthly_sales['sales_diff']=monthly_sales[\"sales\"].diff()\n",
    "monthly_sales=monthly_sales.dropna()\n",
    "monthly_sales.head()"
   ]
  },
  {
   "cell_type": "markdown",
   "id": "7a2853d9-3f0d-4438-80a8-c59b8bed7796",
   "metadata": {},
   "source": [
    "<h1>Prepare supervised data</h1>"
   ]
  },
  {
   "cell_type": "code",
   "execution_count": 43,
   "id": "9f6fdbe0-2ae3-4d40-a8cd-52748448340c",
   "metadata": {},
   "outputs": [
    {
     "name": "stdout",
     "output_type": "stream",
     "text": [
      "Supervised data shape: \n",
      "(59, 1)\n"
     ]
    },
    {
     "data": {
      "text/html": [
       "<div>\n",
       "<style scoped>\n",
       "    .dataframe tbody tr th:only-of-type {\n",
       "        vertical-align: middle;\n",
       "    }\n",
       "\n",
       "    .dataframe tbody tr th {\n",
       "        vertical-align: top;\n",
       "    }\n",
       "\n",
       "    .dataframe thead th {\n",
       "        text-align: right;\n",
       "    }\n",
       "</style>\n",
       "<table border=\"1\" class=\"dataframe\">\n",
       "  <thead>\n",
       "    <tr style=\"text-align: right;\">\n",
       "      <th></th>\n",
       "      <th>sales_diff</th>\n",
       "      <th>month-1</th>\n",
       "      <th>month-2</th>\n",
       "      <th>month-3</th>\n",
       "      <th>month-4</th>\n",
       "      <th>month-5</th>\n",
       "      <th>month-6</th>\n",
       "      <th>month-7</th>\n",
       "      <th>month-8</th>\n",
       "      <th>month-9</th>\n",
       "      <th>month-10</th>\n",
       "      <th>month-11</th>\n",
       "      <th>month-12</th>\n",
       "    </tr>\n",
       "  </thead>\n",
       "  <tbody>\n",
       "    <tr>\n",
       "      <th>0</th>\n",
       "      <td>3130.0</td>\n",
       "      <td>19380.0</td>\n",
       "      <td>-186036.0</td>\n",
       "      <td>36056.0</td>\n",
       "      <td>-33320.0</td>\n",
       "      <td>-76854.0</td>\n",
       "      <td>-89161.0</td>\n",
       "      <td>60325.0</td>\n",
       "      <td>32355.0</td>\n",
       "      <td>80968.0</td>\n",
       "      <td>64892.0</td>\n",
       "      <td>157965.0</td>\n",
       "      <td>4513.0</td>\n",
       "    </tr>\n",
       "    <tr>\n",
       "      <th>1</th>\n",
       "      <td>175184.0</td>\n",
       "      <td>3130.0</td>\n",
       "      <td>19380.0</td>\n",
       "      <td>-186036.0</td>\n",
       "      <td>36056.0</td>\n",
       "      <td>-33320.0</td>\n",
       "      <td>-76854.0</td>\n",
       "      <td>-89161.0</td>\n",
       "      <td>60325.0</td>\n",
       "      <td>32355.0</td>\n",
       "      <td>80968.0</td>\n",
       "      <td>64892.0</td>\n",
       "      <td>157965.0</td>\n",
       "    </tr>\n",
       "    <tr>\n",
       "      <th>2</th>\n",
       "      <td>84613.0</td>\n",
       "      <td>175184.0</td>\n",
       "      <td>3130.0</td>\n",
       "      <td>19380.0</td>\n",
       "      <td>-186036.0</td>\n",
       "      <td>36056.0</td>\n",
       "      <td>-33320.0</td>\n",
       "      <td>-76854.0</td>\n",
       "      <td>-89161.0</td>\n",
       "      <td>60325.0</td>\n",
       "      <td>32355.0</td>\n",
       "      <td>80968.0</td>\n",
       "      <td>64892.0</td>\n",
       "    </tr>\n",
       "    <tr>\n",
       "      <th>3</th>\n",
       "      <td>93963.0</td>\n",
       "      <td>84613.0</td>\n",
       "      <td>175184.0</td>\n",
       "      <td>3130.0</td>\n",
       "      <td>19380.0</td>\n",
       "      <td>-186036.0</td>\n",
       "      <td>36056.0</td>\n",
       "      <td>-33320.0</td>\n",
       "      <td>-76854.0</td>\n",
       "      <td>-89161.0</td>\n",
       "      <td>60325.0</td>\n",
       "      <td>32355.0</td>\n",
       "      <td>80968.0</td>\n",
       "    </tr>\n",
       "    <tr>\n",
       "      <th>4</th>\n",
       "      <td>23965.0</td>\n",
       "      <td>93963.0</td>\n",
       "      <td>84613.0</td>\n",
       "      <td>175184.0</td>\n",
       "      <td>3130.0</td>\n",
       "      <td>19380.0</td>\n",
       "      <td>-186036.0</td>\n",
       "      <td>36056.0</td>\n",
       "      <td>-33320.0</td>\n",
       "      <td>-76854.0</td>\n",
       "      <td>-89161.0</td>\n",
       "      <td>60325.0</td>\n",
       "      <td>32355.0</td>\n",
       "    </tr>\n",
       "  </tbody>\n",
       "</table>\n",
       "</div>"
      ],
      "text/plain": [
       "   sales_diff   month-1   month-2   month-3   month-4   month-5   month-6  \\\n",
       "0      3130.0   19380.0 -186036.0   36056.0  -33320.0  -76854.0  -89161.0   \n",
       "1    175184.0    3130.0   19380.0 -186036.0   36056.0  -33320.0  -76854.0   \n",
       "2     84613.0  175184.0    3130.0   19380.0 -186036.0   36056.0  -33320.0   \n",
       "3     93963.0   84613.0  175184.0    3130.0   19380.0 -186036.0   36056.0   \n",
       "4     23965.0   93963.0   84613.0  175184.0    3130.0   19380.0 -186036.0   \n",
       "\n",
       "   month-7  month-8  month-9  month-10  month-11  month-12  \n",
       "0  60325.0  32355.0  80968.0   64892.0  157965.0    4513.0  \n",
       "1 -89161.0  60325.0  32355.0   80968.0   64892.0  157965.0  \n",
       "2 -76854.0 -89161.0  60325.0   32355.0   80968.0   64892.0  \n",
       "3 -33320.0 -76854.0 -89161.0   60325.0   32355.0   80968.0  \n",
       "4  36056.0 -33320.0 -76854.0  -89161.0   60325.0   32355.0  "
      ]
     },
     "execution_count": 43,
     "metadata": {},
     "output_type": "execute_result"
    }
   ],
   "source": [
    "suvervised_data=monthly_sales.drop([\"date\",\"sales\"],axis=1)\n",
    "print(f\"Supervised data shape: \\n{suvervised_data.shape}\")\n",
    "for i in range(1,13):\n",
    "    col_name=\"month-\"+str(i)\n",
    "    suvervised_data[col_name]=suvervised_data['sales_diff'].shift(i)\n",
    "suvervised_data=suvervised_data.dropna().reset_index(drop=True) \n",
    "suvervised_data.head()"
   ]
  },
  {
   "cell_type": "markdown",
   "id": "1433739b-07a2-4cc0-a1e0-3e53baa85bab",
   "metadata": {},
   "source": [
    "<h1>Training and Test set</h1>"
   ]
  },
  {
   "cell_type": "code",
   "execution_count": 44,
   "id": "385d6984-ceb5-4fd6-b289-2a3595c599d3",
   "metadata": {},
   "outputs": [
    {
     "name": "stdout",
     "output_type": "stream",
     "text": [
      "Training set shape: (35, 13)\n",
      "Test set shape: (12, 13)\n"
     ]
    }
   ],
   "source": [
    "train_data=suvervised_data[:-12]\n",
    "test_data=suvervised_data[-12:]\n",
    "print(f'Training set shape: {train_data.shape}\\nTest set shape: {test_data.shape}')"
   ]
  },
  {
   "cell_type": "markdown",
   "id": "54baa373-e432-42d6-b423-6513c85a43e3",
   "metadata": {},
   "source": [
    "<h1>Data preprocessing</h1>"
   ]
  },
  {
   "cell_type": "code",
   "execution_count": 45,
   "id": "00bfadf2-12ad-4e67-8df5-3d3815411215",
   "metadata": {
    "scrolled": true
   },
   "outputs": [
    {
     "name": "stdout",
     "output_type": "stream",
     "text": [
      "[ 0.97816867  0.12267595  0.20344758 -0.81758535  0.28633667 -0.05850103\n",
      " -0.27488947 -0.33606217  0.40696724  0.26794062  0.50957454  0.42966779\n",
      "  0.8922929 ]\n"
     ]
    }
   ],
   "source": [
    "scaler=MinMaxScaler(feature_range=(-1,1))\n",
    "scaler.fit(train_data)\n",
    "train_data=scaler.transform(train_data)\n",
    "test_data=scaler.transform(test_data)\n",
    "#check\n",
    "print(train_data[1])"
   ]
  },
  {
   "cell_type": "code",
   "execution_count": 46,
   "id": "d3ec7998-04e1-4daa-b5be-314e3872da2c",
   "metadata": {},
   "outputs": [],
   "source": [
    "x_train,y_train=train_data[:,1:],train_data[:,0:1]\n",
    "x_test,y_test=test_data[:,1:],test_data[:,0:1]\n",
    "y_train=y_train.ravel()\n",
    "y_test=y_test.ravel()"
   ]
  },
  {
   "cell_type": "code",
   "execution_count": 47,
   "id": "92da2a0e-e9fd-4699-818b-79a137b941ae",
   "metadata": {},
   "outputs": [
    {
     "name": "stdout",
     "output_type": "stream",
     "text": [
      "x-train set shape:(35, 12)\n",
      "y-train set shape:(35,)\n",
      "x-test set shape:(12, 12)\n",
      "y-test set shape:(12,)\n"
     ]
    }
   ],
   "source": [
    "print(f\"x-train set shape:{x_train.shape}\\ny-train set shape:{y_train.shape}\\nx-test set shape:{x_test.shape}\\ny-test set shape:{y_test.shape}\")"
   ]
  },
  {
   "cell_type": "markdown",
   "id": "c0b50260-2a1b-44c2-94b1-672e13d67e19",
   "metadata": {},
   "source": [
    "<h1>Make prediction data frame</h1>"
   ]
  },
  {
   "cell_type": "code",
   "execution_count": 48,
   "id": "5dc51920-2248-4ea8-9a94-3ca797a3b53c",
   "metadata": {},
   "outputs": [],
   "source": [
    "sales_dates=monthly_sales['date'][-12:].reset_index(drop=True)\n",
    "predict_df=pd.DataFrame(sales_dates)"
   ]
  },
  {
   "cell_type": "code",
   "execution_count": 49,
   "id": "3293e203-e6f3-4f8a-abe8-6bc790e5fe25",
   "metadata": {},
   "outputs": [
    {
     "name": "stdout",
     "output_type": "stream",
     "text": [
      "[663411, 617306, 621369, 822667, 938862, 1020686, 1064624, 1171393, 1026403, 935263, 891160, 928837, 695170]\n"
     ]
    }
   ],
   "source": [
    "actual_sales=monthly_sales[\"sales\"][-13:].to_list()\n",
    "print(actual_sales)"
   ]
  },
  {
   "cell_type": "code",
   "execution_count": null,
   "id": "9951238f-178a-433d-8ee9-e80cd7ecdb19",
   "metadata": {},
   "outputs": [],
   "source": []
  }
 ],
 "metadata": {
  "kernelspec": {
   "display_name": "Python 3 (ipykernel)",
   "language": "python",
   "name": "python3"
  },
  "language_info": {
   "codemirror_mode": {
    "name": "ipython",
    "version": 3
   },
   "file_extension": ".py",
   "mimetype": "text/x-python",
   "name": "python",
   "nbconvert_exporter": "python",
   "pygments_lexer": "ipython3",
   "version": "3.9.19"
  }
 },
 "nbformat": 4,
 "nbformat_minor": 5
}
